{
 "cells": [
  {
   "attachments": {},
   "cell_type": "markdown",
   "metadata": {},
   "source": [
    "## Problem\n",
    "\n",
    "Omer trained a linear regression model and tested its performance on a test sample of 500 objects. On 400 of those, the model returned a prediction higher than expected by 0.5, and on the remaining 100, the model returned a prediction lower than expected by 0.7.\n",
    "\n",
    "What is the MSE for his model?\n",
    "\n",
    "Limor claims that the linear regression model wasn't trained correctly, and we can do improve it by changing all the answers by a constant value. What will be her MSE?\n",
    "\n",
    "You can assume that Limor found the smallest error under her constraints.\n",
    "\n",
    "## Solution\n",
    "In the first case we got\n",
    "\n",
    "$$\n",
    "\\begin{equation}\n",
    "\\begin{split}\n",
    "MSE&=\\frac{1}{n} \\sum_{i=1}^n\\left(Y_i-\\hat{Y}_i\\right)^2 \\\\\n",
    "&=\\frac{400}{500}(0.5)^2+\\frac{100}{500}(-0.7)^2\\\\\n",
    "&= 0.298\n",
    "\\end{split}\n",
    "\\end{equation}\n",
    "$$\n",
    "\n",
    "For the second solution there can be 2 solutions depending on how is readed. On both of them we have to use derivation to find the minimun. Therefore first we should check that the second derivative is positive to know the solution will be a minimum and not a maximum which is \n",
    "\n",
    "\\begin{equation}\n",
    "\\begin{split}\n",
    "\\frac{dMSE}{dc}&= 2\\sum_{i=1}^n\\left(Y_i-c\\right)*(-1)\\\\\n",
    "\\frac{d^2MSE}{d^2c}&= 2>0\n",
    "\\end{split}\n",
    "\\end{equation}\n",
    "\n",
    "Therefore the solution is a minimun, now we are free to derive and know that the solution will be a minimumn not a maximum.\n",
    "\n",
    "1.\n",
    "While in the second case we can derive the expresion and find the constant that minimizes this expresion\n",
    "\n",
    "\\begin{equation}\n",
    "\\begin{split}\n",
    "MSE&=\\frac{400}{500}(0.5+a)^2+\\frac{100}{500}(-0.7+a)^2\\\\\n",
    "&=2*[\\frac{400}{500}(0.5+a)+\\frac{100}{500}(-0.7+a)]=0\\\\\n",
    "&=\\frac{400}{500}0.5+\\frac{400}{500}a+\\frac{100}{500}(-0.7)+\\frac{100}{500}(a)=0\\\\\n",
    "&= 0.26 = -c\\\\\n",
    "&= -0.26 = c\n",
    "\\end{split}\n",
    "\\end{equation}\n",
    "\n",
    "Therefore replacing in the MSE formula the result of the new MSE is \n",
    "\n",
    "$$MSE=0.234$$\n",
    "\n",
    "\n",
    "2.\n",
    "\n",
    "While in the second case we can derive the expresion and find the constant that minimizes this expresion\n",
    "\n",
    "\\begin{equation}\n",
    "\\begin{split}\n",
    "MSE&=\\frac{1}{n} \\sum_{i=1}^n\\left(Y_i-c\\right)^2 \\\\\n",
    "\\frac{dMSE}{dc}&= 2\\sum_{i=1}^n\\left(Y_i-c\\right)*(-1)\\\\\n",
    "\\end{split}\n",
    "\\end{equation}\n",
    "\n",
    "Then we clear c for the solution and we get\n",
    "\\begin{equation}\n",
    "\\begin{split}\n",
    "2\\sum_{i=1}^n\\left(Y_i-c\\right)*(-1)&=0\\\\\n",
    "\\sum_{i=1}^n(Y_i)-Nc&=0\\\\\n",
    "\\frac{\\sum_{i=1}^n(Y_i)}{N}&=c\n",
    "\\end{split}\n",
    "\\end{equation}\n",
    "\n",
    "In this second case the MSE can't be found without futher data."
   ]
  },
  {
   "cell_type": "code",
   "execution_count": 4,
   "metadata": {},
   "outputs": [
    {
     "name": "stdout",
     "output_type": "stream",
     "text": [
      "first result is 0.298\n",
      "constant of second result is 0.26\n",
      "MSE second result is 0.23040000000000002\n"
     ]
    }
   ],
   "source": [
    "# Check Operation\n",
    "val_1 = (400/500)*((0.5)**2)+(100/500)*((-0.7)**2)\n",
    "val_2 = (400/500)*((0.5))+(100/500)*((-0.7))\n",
    "val_3 =(400/500)*((0.5-0.26)**2)+(100/500)*((-0.7-0.26)**2)\n",
    "\n",
    "print(f\"first result is {val_1}\")\n",
    "print(f\"constant of second result is {val_2}\")\n",
    "print(f\"MSE second result is {val_3}\")"
   ]
  }
 ],
 "metadata": {
  "kernelspec": {
   "display_name": "Python 3",
   "language": "python",
   "name": "python3"
  },
  "language_info": {
   "codemirror_mode": {
    "name": "ipython",
    "version": 3
   },
   "file_extension": ".py",
   "mimetype": "text/x-python",
   "name": "python",
   "nbconvert_exporter": "python",
   "pygments_lexer": "ipython3",
   "version": "3.8.10"
  },
  "orig_nbformat": 4
 },
 "nbformat": 4,
 "nbformat_minor": 2
}
