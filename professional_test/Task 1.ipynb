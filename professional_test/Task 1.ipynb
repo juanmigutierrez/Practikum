{
 "cells": [
  {
   "cell_type": "code",
   "execution_count": 2,
   "metadata": {},
   "outputs": [],
   "source": [
    "import numpy as np\n",
    "import pandas as pd"
   ]
  },
  {
   "attachments": {},
   "cell_type": "markdown",
   "metadata": {},
   "source": [
    "## Introduction\n",
    "\n",
    "Each cell will have the solution to the problems"
   ]
  },
  {
   "cell_type": "code",
   "execution_count": 4,
   "metadata": {},
   "outputs": [],
   "source": [
    "# 1.1. Download the data set movie_metadata.csv, which contains data about films from IMDb\n",
    "# (Internet Movie Database).\n",
    "df = pd.read_csv(\"../files/movie_metadata.csv\")"
   ]
  },
  {
   "attachments": {},
   "cell_type": "markdown",
   "metadata": {},
   "source": [
    "Exploring the dataframe"
   ]
  },
  {
   "cell_type": "code",
   "execution_count": 5,
   "metadata": {},
   "outputs": [
    {
     "data": {
      "text/html": [
       "<div>\n",
       "<style scoped>\n",
       "    .dataframe tbody tr th:only-of-type {\n",
       "        vertical-align: middle;\n",
       "    }\n",
       "\n",
       "    .dataframe tbody tr th {\n",
       "        vertical-align: top;\n",
       "    }\n",
       "\n",
       "    .dataframe thead th {\n",
       "        text-align: right;\n",
       "    }\n",
       "</style>\n",
       "<table border=\"1\" class=\"dataframe\">\n",
       "  <thead>\n",
       "    <tr style=\"text-align: right;\">\n",
       "      <th></th>\n",
       "      <th>color</th>\n",
       "      <th>director_name</th>\n",
       "      <th>num_critic_for_reviews</th>\n",
       "      <th>duration</th>\n",
       "      <th>director_facebook_likes</th>\n",
       "      <th>actor_3_facebook_likes</th>\n",
       "      <th>actor_2_name</th>\n",
       "      <th>actor_1_facebook_likes</th>\n",
       "      <th>gross</th>\n",
       "      <th>genres</th>\n",
       "      <th>...</th>\n",
       "      <th>num_user_for_reviews</th>\n",
       "      <th>language</th>\n",
       "      <th>country</th>\n",
       "      <th>content_rating</th>\n",
       "      <th>budget</th>\n",
       "      <th>title_year</th>\n",
       "      <th>actor_2_facebook_likes</th>\n",
       "      <th>imdb_score</th>\n",
       "      <th>aspect_ratio</th>\n",
       "      <th>movie_facebook_likes</th>\n",
       "    </tr>\n",
       "  </thead>\n",
       "  <tbody>\n",
       "    <tr>\n",
       "      <th>0</th>\n",
       "      <td>Color</td>\n",
       "      <td>James Cameron</td>\n",
       "      <td>723.0</td>\n",
       "      <td>178.0</td>\n",
       "      <td>0.0</td>\n",
       "      <td>855.0</td>\n",
       "      <td>Joel David Moore</td>\n",
       "      <td>1000.0</td>\n",
       "      <td>760505847.0</td>\n",
       "      <td>Action|Adventure|Fantasy|Sci-Fi</td>\n",
       "      <td>...</td>\n",
       "      <td>3054.0</td>\n",
       "      <td>English</td>\n",
       "      <td>USA</td>\n",
       "      <td>PG-13</td>\n",
       "      <td>237000000.0$</td>\n",
       "      <td>2009.0</td>\n",
       "      <td>936.0</td>\n",
       "      <td>7.9</td>\n",
       "      <td>1.78</td>\n",
       "      <td>33000</td>\n",
       "    </tr>\n",
       "    <tr>\n",
       "      <th>1</th>\n",
       "      <td>Color</td>\n",
       "      <td>Gore Verbinski</td>\n",
       "      <td>302.0</td>\n",
       "      <td>169.0</td>\n",
       "      <td>563.0</td>\n",
       "      <td>1000.0</td>\n",
       "      <td>Orlando Bloom</td>\n",
       "      <td>40000.0</td>\n",
       "      <td>309404152.0</td>\n",
       "      <td>Action|Adventure|Fantasy</td>\n",
       "      <td>...</td>\n",
       "      <td>1238.0</td>\n",
       "      <td>English</td>\n",
       "      <td>USA</td>\n",
       "      <td>PG-13</td>\n",
       "      <td>300000000.0$</td>\n",
       "      <td>2007.0</td>\n",
       "      <td>5000.0</td>\n",
       "      <td>7.1</td>\n",
       "      <td>2.35</td>\n",
       "      <td>0</td>\n",
       "    </tr>\n",
       "  </tbody>\n",
       "</table>\n",
       "<p>2 rows × 28 columns</p>\n",
       "</div>"
      ],
      "text/plain": [
       "   color   director_name  num_critic_for_reviews  duration  \\\n",
       "0  Color   James Cameron                   723.0     178.0   \n",
       "1  Color  Gore Verbinski                   302.0     169.0   \n",
       "\n",
       "   director_facebook_likes  actor_3_facebook_likes      actor_2_name  \\\n",
       "0                      0.0                   855.0  Joel David Moore   \n",
       "1                    563.0                  1000.0     Orlando Bloom   \n",
       "\n",
       "   actor_1_facebook_likes        gross                           genres  ...  \\\n",
       "0                  1000.0  760505847.0  Action|Adventure|Fantasy|Sci-Fi  ...   \n",
       "1                 40000.0  309404152.0         Action|Adventure|Fantasy  ...   \n",
       "\n",
       "  num_user_for_reviews language  country  content_rating        budget  \\\n",
       "0               3054.0  English      USA           PG-13  237000000.0$   \n",
       "1               1238.0  English      USA           PG-13  300000000.0$   \n",
       "\n",
       "   title_year actor_2_facebook_likes imdb_score  aspect_ratio  \\\n",
       "0      2009.0                  936.0        7.9          1.78   \n",
       "1      2007.0                 5000.0        7.1          2.35   \n",
       "\n",
       "  movie_facebook_likes  \n",
       "0                33000  \n",
       "1                    0  \n",
       "\n",
       "[2 rows x 28 columns]"
      ]
     },
     "execution_count": 5,
     "metadata": {},
     "output_type": "execute_result"
    }
   ],
   "source": [
    "df.head(2)"
   ]
  },
  {
   "cell_type": "code",
   "execution_count": 6,
   "metadata": {},
   "outputs": [
    {
     "name": "stdout",
     "output_type": "stream",
     "text": [
      "<class 'pandas.core.frame.DataFrame'>\n",
      "RangeIndex: 5043 entries, 0 to 5042\n",
      "Data columns (total 28 columns):\n",
      " #   Column                     Non-Null Count  Dtype  \n",
      "---  ------                     --------------  -----  \n",
      " 0   color                      5024 non-null   object \n",
      " 1   director_name              4939 non-null   object \n",
      " 2   num_critic_for_reviews     4993 non-null   float64\n",
      " 3   duration                   5028 non-null   float64\n",
      " 4   director_facebook_likes    4939 non-null   float64\n",
      " 5   actor_3_facebook_likes     5020 non-null   float64\n",
      " 6   actor_2_name               5030 non-null   object \n",
      " 7   actor_1_facebook_likes     5036 non-null   float64\n",
      " 8   gross                      4159 non-null   float64\n",
      " 9   genres                     5043 non-null   object \n",
      " 10  actor_1_name               5036 non-null   object \n",
      " 11  movie_title                5043 non-null   object \n",
      " 12  num_voted_users            5043 non-null   int64  \n",
      " 13  cast_total_facebook_likes  5043 non-null   int64  \n",
      " 14  actor_3_name               5020 non-null   object \n",
      " 15  facenumber_in_poster       5030 non-null   float64\n",
      " 16  plot_keywords              4890 non-null   object \n",
      " 17  movie_imdb_link            5043 non-null   object \n",
      " 18  num_user_for_reviews       5022 non-null   float64\n",
      " 19  language                   5031 non-null   object \n",
      " 20  country                    5038 non-null   object \n",
      " 21  content_rating             4740 non-null   object \n",
      " 22  budget                     5043 non-null   object \n",
      " 23  title_year                 4935 non-null   float64\n",
      " 24  actor_2_facebook_likes     5030 non-null   float64\n",
      " 25  imdb_score                 5043 non-null   float64\n",
      " 26  aspect_ratio               4714 non-null   float64\n",
      " 27  movie_facebook_likes       5043 non-null   int64  \n",
      "dtypes: float64(12), int64(3), object(13)\n",
      "memory usage: 1.1+ MB\n"
     ]
    }
   ],
   "source": [
    "df.info()"
   ]
  },
  {
   "cell_type": "code",
   "execution_count": 7,
   "metadata": {},
   "outputs": [
    {
     "name": "stdout",
     "output_type": "stream",
     "text": [
      "1.2 Number NaNs in duration column: 15\n"
     ]
    }
   ],
   "source": [
    "# 1.2. The duration column contains data on the film length. How many missing values are there  in this column?\n",
    "null_values = df['duration'].isnull().sum()\n",
    "print(\"1.2 Number NaNs in duration column:\", null_values)"
   ]
  },
  {
   "cell_type": "code",
   "execution_count": 8,
   "metadata": {},
   "outputs": [
    {
     "name": "stdout",
     "output_type": "stream",
     "text": [
      "1.3 Check there is no more NaNs in duration column 0\n"
     ]
    }
   ],
   "source": [
    "# 1.3. Replace the missing values in the duration column with the median value for this column.\n",
    "df.loc[df['duration'].isna(),'duration'] = df['duration'].median()\n",
    "new_null_values = df['duration'].isnull().sum()\n",
    "print(\"1.3 Check there is no more NaNs in duration column\", new_null_values)"
   ]
  },
  {
   "cell_type": "code",
   "execution_count": 9,
   "metadata": {},
   "outputs": [
    {
     "name": "stdout",
     "output_type": "stream",
     "text": [
      "1.4 Average duration of film 107.19\n"
     ]
    }
   ],
   "source": [
    "# 1.4. What is the average film length? Give the answer as a floating-point figure rounded to two decimal places.\n",
    "avg_duration = df['duration'].mean().round(2)\n",
    "print(\"1.4 Average duration of film\", avg_duration)"
   ]
  },
  {
   "cell_type": "code",
   "execution_count": 12,
   "metadata": {},
   "outputs": [
    {
     "name": "stdout",
     "output_type": "stream",
     "text": [
      "1.5 check\n"
     ]
    },
    {
     "data": {
      "text/html": [
       "<div>\n",
       "<style scoped>\n",
       "    .dataframe tbody tr th:only-of-type {\n",
       "        vertical-align: middle;\n",
       "    }\n",
       "\n",
       "    .dataframe tbody tr th {\n",
       "        vertical-align: top;\n",
       "    }\n",
       "\n",
       "    .dataframe thead th {\n",
       "        text-align: right;\n",
       "    }\n",
       "</style>\n",
       "<table border=\"1\" class=\"dataframe\">\n",
       "  <thead>\n",
       "    <tr style=\"text-align: right;\">\n",
       "      <th></th>\n",
       "      <th>duration</th>\n",
       "      <th>movie_duration_category</th>\n",
       "    </tr>\n",
       "  </thead>\n",
       "  <tbody>\n",
       "    <tr>\n",
       "      <th>4889</th>\n",
       "      <td>105.0</td>\n",
       "      <td>90–120</td>\n",
       "    </tr>\n",
       "    <tr>\n",
       "      <th>543</th>\n",
       "      <td>45.0</td>\n",
       "      <td>&lt;90</td>\n",
       "    </tr>\n",
       "    <tr>\n",
       "      <th>3905</th>\n",
       "      <td>93.0</td>\n",
       "      <td>90–120</td>\n",
       "    </tr>\n",
       "    <tr>\n",
       "      <th>1353</th>\n",
       "      <td>98.0</td>\n",
       "      <td>90–120</td>\n",
       "    </tr>\n",
       "    <tr>\n",
       "      <th>4081</th>\n",
       "      <td>99.0</td>\n",
       "      <td>90–120</td>\n",
       "    </tr>\n",
       "  </tbody>\n",
       "</table>\n",
       "</div>"
      ],
      "text/plain": [
       "      duration movie_duration_category\n",
       "4889     105.0                  90–120\n",
       "543       45.0                     <90\n",
       "3905      93.0                  90–120\n",
       "1353      98.0                  90–120\n",
       "4081      99.0                  90–120"
      ]
     },
     "execution_count": 12,
     "metadata": {},
     "output_type": "execute_result"
    }
   ],
   "source": [
    "# 1.5. Create a movie_duration_category column, which will contain three categories\n",
    "# depending on the film length:\n",
    "#   • Category \"1. <90\" if the film is less than 90 minutes long\n",
    "#   • Category \"2. 90–120\" if the film is between 90 minutes and two hours long (inclusively)\n",
    "#   • Category \"3. >120\" if the film is more than two hours long\n",
    "bins = [0, 90, 120, np.inf]\n",
    "categories_names = ['<90', '90–120', '>120']\n",
    "df['movie_duration_category'] = pd.cut(df['duration'], bins, labels=categories_names)\n",
    "print(\"1.5 check\")\n",
    "df.sample(5)[['duration','movie_duration_category']]"
   ]
  },
  {
   "cell_type": "code",
   "execution_count": 16,
   "metadata": {},
   "outputs": [
    {
     "data": {
      "text/html": [
       "<div>\n",
       "<style scoped>\n",
       "    .dataframe tbody tr th:only-of-type {\n",
       "        vertical-align: middle;\n",
       "    }\n",
       "\n",
       "    .dataframe tbody tr th {\n",
       "        vertical-align: top;\n",
       "    }\n",
       "\n",
       "    .dataframe thead th {\n",
       "        text-align: right;\n",
       "    }\n",
       "</style>\n",
       "<table border=\"1\" class=\"dataframe\">\n",
       "  <thead>\n",
       "    <tr style=\"text-align: right;\">\n",
       "      <th>movie_duration_category</th>\n",
       "      <th>&lt;90</th>\n",
       "      <th>90–120</th>\n",
       "      <th>&gt;120</th>\n",
       "    </tr>\n",
       "    <tr>\n",
       "      <th>title_year</th>\n",
       "      <th></th>\n",
       "      <th></th>\n",
       "      <th></th>\n",
       "    </tr>\n",
       "  </thead>\n",
       "  <tbody>\n",
       "    <tr>\n",
       "      <th>2000</th>\n",
       "      <td>33</td>\n",
       "      <td>104</td>\n",
       "      <td>34</td>\n",
       "    </tr>\n",
       "    <tr>\n",
       "      <th>2001</th>\n",
       "      <td>36</td>\n",
       "      <td>113</td>\n",
       "      <td>39</td>\n",
       "    </tr>\n",
       "    <tr>\n",
       "      <th>2002</th>\n",
       "      <td>40</td>\n",
       "      <td>142</td>\n",
       "      <td>27</td>\n",
       "    </tr>\n",
       "    <tr>\n",
       "      <th>2003</th>\n",
       "      <td>37</td>\n",
       "      <td>102</td>\n",
       "      <td>30</td>\n",
       "    </tr>\n",
       "    <tr>\n",
       "      <th>2004</th>\n",
       "      <td>38</td>\n",
       "      <td>134</td>\n",
       "      <td>42</td>\n",
       "    </tr>\n",
       "    <tr>\n",
       "      <th>2005</th>\n",
       "      <td>40</td>\n",
       "      <td>133</td>\n",
       "      <td>48</td>\n",
       "    </tr>\n",
       "    <tr>\n",
       "      <th>2006</th>\n",
       "      <td>50</td>\n",
       "      <td>136</td>\n",
       "      <td>53</td>\n",
       "    </tr>\n",
       "    <tr>\n",
       "      <th>2007</th>\n",
       "      <td>37</td>\n",
       "      <td>124</td>\n",
       "      <td>43</td>\n",
       "    </tr>\n",
       "    <tr>\n",
       "      <th>2008</th>\n",
       "      <td>42</td>\n",
       "      <td>147</td>\n",
       "      <td>36</td>\n",
       "    </tr>\n",
       "    <tr>\n",
       "      <th>2009</th>\n",
       "      <td>55</td>\n",
       "      <td>165</td>\n",
       "      <td>40</td>\n",
       "    </tr>\n",
       "  </tbody>\n",
       "</table>\n",
       "</div>"
      ],
      "text/plain": [
       "movie_duration_category  <90  90–120  >120\n",
       "title_year                                \n",
       "2000                      33     104    34\n",
       "2001                      36     113    39\n",
       "2002                      40     142    27\n",
       "2003                      37     102    30\n",
       "2004                      38     134    42\n",
       "2005                      40     133    48\n",
       "2006                      50     136    53\n",
       "2007                      37     124    43\n",
       "2008                      42     147    36\n",
       "2009                      55     165    40"
      ]
     },
     "execution_count": 16,
     "metadata": {},
     "output_type": "execute_result"
    }
   ],
   "source": [
    "# 1.6. Build a summary table for films released after 2000 (inclusively), to list the numbers of\n",
    "# films:\n",
    "#   • Table rows: year\n",
    "#   • Table columns: movie duration category (\"<90\", \"90–120\", \">120\")\n",
    "#   • The year of release should be displayed in the YYYY format.\n",
    "df_films = df[df['title_year'] >= 2000].copy()\n",
    "df_films['title_year'] = pd.to_datetime(df_films ['title_year'], format='%Y', errors='coerce').dt.year\n",
    "df_films = df_films[['title_year', 'movie_duration_category']].pivot_table(index='title_year', columns=['movie_duration_category'], aggfunc=lambda x: len(x))\n",
    "df_films.head(10)"
   ]
  },
  {
   "cell_type": "code",
   "execution_count": 18,
   "metadata": {},
   "outputs": [
    {
     "name": "stdout",
     "output_type": "stream",
     "text": [
      "1.7 films from 2008 that were between 90 and 120 minutes : 160\n"
     ]
    }
   ],
   "source": [
    "# 1.7. How many films between 90 minutes and two hours long were released in 2008?\n",
    "cond = (df['duration'].between(90,120, inclusive='both'))\n",
    "cond &= df['title_year']==2008\n",
    "\n",
    "print(\"1.7 films from 2008 that were between 90 and 120 minutes :\", len(df[cond]))"
   ]
  },
  {
   "cell_type": "code",
   "execution_count": 22,
   "metadata": {},
   "outputs": [
    {
     "data": {
      "text/plain": [
       "other             4621\n",
       "love               234\n",
       "death              172\n",
       "love_and_death      16\n",
       "Name: movie_plot_category, dtype: int64"
      ]
     },
     "execution_count": 22,
     "metadata": {},
     "output_type": "execute_result"
    }
   ],
   "source": [
    "# 1.8. The plot_keywords column holds keywords characterizing the film's plot. Using the data\n",
    "# in this column, create a column called movie_plot_category, to contain four categories\n",
    "#   depending on the key words in the column:\n",
    "#    • Category \"love_and_death\" if the keywords include both \"love\" and \"death\"\n",
    "#    • Category \"love\" if the keywords include the word \"love\"\n",
    "#    • Category \"death\" if the keywords include the word \"death\"\n",
    "#    • Category \"other\" if the keywords do not meet the conditions above\n",
    "\n",
    "# Using regex to determine love and death categories\n",
    "categories = ['love','death']\n",
    "df['plot_keywords'] = df['plot_keywords'].str.lower()\n",
    "pat =  '('+'|'.join(categories)+')'\n",
    "pat_ld = \"love.*death|death.*love\"\n",
    "df['movie_plot_category'] = (df['plot_keywords'].str.extract(pat)).fillna('other')\n",
    "\n",
    "#Love and death category\n",
    "cond_ld = df['plot_keywords'].str.contains(pat_ld, regex=True, na=False)\n",
    "df.loc[cond_ld, 'movie_plot_category'] = 'love_and_death'\n",
    "\n",
    "# Check general movie_plot_category\n",
    "df['movie_plot_category'].value_counts()"
   ]
  },
  {
   "cell_type": "code",
   "execution_count": 27,
   "metadata": {},
   "outputs": [
    {
     "name": "stdout",
     "output_type": "stream",
     "text": [
      "Love category sample:  ballet|dance|dancer|dancing|love\n",
      "Love & death category sample:  cancer|death|doctor|drinking|love\n",
      "other category sample:  nan\n"
     ]
    }
   ],
   "source": [
    "# Check general movie_plot_category\n",
    "print(\"Love category sample: \", df[df['movie_plot_category']=='love']['plot_keywords'].sample(1).iloc[0])\n",
    "print(\"Love & death category sample: \", df[df['movie_plot_category']=='love_and_death']['plot_keywords'].sample(1).iloc[0])\n",
    "print(\"other category sample: \", df[df['movie_plot_category']=='other']['plot_keywords'].sample(1).iloc[0])\n"
   ]
  },
  {
   "cell_type": "code",
   "execution_count": 29,
   "metadata": {},
   "outputs": [
    {
     "data": {
      "text/html": [
       "<div>\n",
       "<style scoped>\n",
       "    .dataframe tbody tr th:only-of-type {\n",
       "        vertical-align: middle;\n",
       "    }\n",
       "\n",
       "    .dataframe tbody tr th {\n",
       "        vertical-align: top;\n",
       "    }\n",
       "\n",
       "    .dataframe thead th {\n",
       "        text-align: right;\n",
       "    }\n",
       "</style>\n",
       "<table border=\"1\" class=\"dataframe\">\n",
       "  <thead>\n",
       "    <tr style=\"text-align: right;\">\n",
       "      <th></th>\n",
       "      <th>movie_plot_category</th>\n",
       "      <th>mean_imdb_score</th>\n",
       "    </tr>\n",
       "  </thead>\n",
       "  <tbody>\n",
       "    <tr>\n",
       "      <th>0</th>\n",
       "      <td>death</td>\n",
       "      <td>6.535465</td>\n",
       "    </tr>\n",
       "    <tr>\n",
       "      <th>1</th>\n",
       "      <td>love</td>\n",
       "      <td>6.580769</td>\n",
       "    </tr>\n",
       "    <tr>\n",
       "      <th>2</th>\n",
       "      <td>love_and_death</td>\n",
       "      <td>6.506250</td>\n",
       "    </tr>\n",
       "    <tr>\n",
       "      <th>3</th>\n",
       "      <td>other</td>\n",
       "      <td>6.431422</td>\n",
       "    </tr>\n",
       "  </tbody>\n",
       "</table>\n",
       "</div>"
      ],
      "text/plain": [
       "  movie_plot_category  mean_imdb_score\n",
       "0               death         6.535465\n",
       "1                love         6.580769\n",
       "2      love_and_death         6.506250\n",
       "3               other         6.431422"
      ]
     },
     "execution_count": 29,
     "metadata": {},
     "output_type": "execute_result"
    }
   ],
   "source": [
    "# 1.9. The imdb_score column shows a viewer rating for the film. Build a table to reflect the\n",
    "# average rating of films depending on which movie_plot_category category they belong to.\n",
    "\n",
    "avg_score_df = df[['imdb_score','movie_plot_category']].groupby(['movie_plot_category']).mean().reset_index()\\\n",
    "    .rename(columns={'imdb_score':'mean_imdb_score'})\n",
    "avg_score_df"
   ]
  },
  {
   "cell_type": "code",
   "execution_count": 32,
   "metadata": {},
   "outputs": [
    {
     "name": "stdout",
     "output_type": "stream",
     "text": [
      "The average rating films of love is 6.58\n"
     ]
    }
   ],
   "source": [
    "# 1.10. What is the average rating of films in the \"love\" category? Give the answer as a floatingpoint\n",
    "# figure rounded to two decimal places.\n",
    "\n",
    "avg_score = avg_score_df[avg_score_df['movie_plot_category']=='love']['mean_imdb_score'].iloc[0]\n",
    "print(f\"The average rating films of love is {avg_score:.{2}f}\")"
   ]
  },
  {
   "cell_type": "code",
   "execution_count": 37,
   "metadata": {},
   "outputs": [
    {
     "name": "stdout",
     "output_type": "stream",
     "text": [
      "The median budget for all films is 15000000 $\n"
     ]
    }
   ],
   "source": [
    "# 1.11. The budget column contains the film's budget. What is the median budget for all the films\n",
    "# listed? Give the answer as an integer.\n",
    "\n",
    "df['budget'] = df['budget'].map(lambda x: float(x.replace('$', '')))\n",
    "median_budget = int(df['clean_budget'].median())\n",
    "print(f\"The median budget for all films is {median_budget} $\")"
   ]
  }
 ],
 "metadata": {
  "kernelspec": {
   "display_name": "Python 3",
   "language": "python",
   "name": "python3"
  },
  "language_info": {
   "codemirror_mode": {
    "name": "ipython",
    "version": 3
   },
   "file_extension": ".py",
   "mimetype": "text/x-python",
   "name": "python",
   "nbconvert_exporter": "python",
   "pygments_lexer": "ipython3",
   "version": "3.8.10"
  },
  "orig_nbformat": 4
 },
 "nbformat": 4,
 "nbformat_minor": 2
}
