{
 "cells": [
  {
   "attachments": {},
   "cell_type": "markdown",
   "metadata": {},
   "source": [
    "\n",
    "You are given two random variables X and Y.\n",
    "\n",
    "    E(X) = 0.5 Var(X) = 2\n",
    "\n",
    "    E(Y) = 7 Var(Y) = 3.5\n",
    "\n",
    "    cov (X, Y) = -0.8\n",
    "Find the variance of the random variable Z = 2X - 3Y\n",
    "\n",
    "\n",
    "\n",
    "We are going to use this expression to determine the variance\n",
    "\n",
    "$$Var(aX-by)=a^2Var(X)+b^2Var(Y)-2abCov(X,Y)$$\n",
    "\n",
    "Then \n",
    "$$ \n",
    "\\begin{equation}\n",
    "\\begin{split}\n",
    "Var(Z) & = Var(2X - 3Y) \\\\\n",
    "       & = 4*Var(X)+9Var(Y)-2*3*2*(-0.8)\\\\\n",
    "       & = 4*2+9*3.5-2*3*2*(-0.8)\\\\\n",
    "       & = 49.1\n",
    "\\end{split}\n",
    "\\end{equation}\n",
    "$$"
   ]
  }
 ],
 "metadata": {
  "language_info": {
   "name": "python"
  },
  "orig_nbformat": 4
 },
 "nbformat": 4,
 "nbformat_minor": 2
}
