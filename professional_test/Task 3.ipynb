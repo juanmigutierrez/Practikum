{
 "cells": [
  {
   "attachments": {},
   "cell_type": "markdown",
   "metadata": {},
   "source": [
    "\n",
    "Answering student questions\n",
    "\n",
    "How would you answer the student's question below? Your task is to get your message across in such a way that a beginner can understand your explanation. You can do this any way you want (pictures, GIFs, metaphors, anything) so long as it makes your explanation clear. Answer the question: \"What is the difference between DataFrame and Series?\" Indicate how much time you spent completing this task.\n",
    "\n",
    "Answer:\n",
    "\n",
    "Hi STUDENT NAME !\n",
    "\n",
    "The main difference between a DataFrame and a Series is their dimensionality. A DataFrame is multidimensional, whereas a Series is one-dimensional. You can think of a Series as a one-dimensional array or a single column/variable, while a DataFrame is a collection of these Series (columns).\n",
    "\n",
    "It's worth noting that there are specific methods and functionalities that are unique to either Series or Pandas. These differences arise from the distinct characteristics and purposes of these data structures. You can chek the following image\n",
    "\n",
    "<img src=\"https://camo.qiitausercontent.com/5a1924b47a5200f0618fddda44db1f357201d5ef/68747470733a2f2f71696974612d696d6167652d73746f72652e73332e61702d6e6f727468656173742d312e616d617a6f6e6177732e636f6d2f302f3131373437392f32623061326364342d636131392d633665342d313364342d3664323133636432306539642e706e67\" alt=\"image info\" />\n",
    "\n",
    "[Source Image](https://qiita.com/alokrawat050/items/f807d193d1e677f6916f)\n",
    "\n",
    "Please feel free to reach out if you have any further questions or need additional clarification!\n",
    "\n",
    "Useful links for deep dive:\n",
    "* [Explanation](https://qiita.com/alokrawat050/items/f807d193d1e677f6916f)\n",
    "* [Pandas DataFrame](https://pandas.pydata.org/docs/reference/api/pandas.DataFrame.html)\n",
    "* [Pandas Series](https://pandas.pydata.org/docs/reference/api/pandas.Series.html)\n",
    "\n",
    "\n",
    "\n",
    "*** Time spending on the task: (8 minutes)***\n"
   ]
  },
  {
   "cell_type": "code",
   "execution_count": null,
   "metadata": {
    "vscode": {
     "languageId": "plaintext"
    }
   },
   "outputs": [],
   "source": []
  }
 ],
 "metadata": {
  "language_info": {
   "name": "python"
  },
  "orig_nbformat": 4
 },
 "nbformat": 4,
 "nbformat_minor": 2
}
